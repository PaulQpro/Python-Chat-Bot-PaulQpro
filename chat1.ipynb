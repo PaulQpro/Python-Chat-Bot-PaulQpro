{
 "cells": [
  {
   "cell_type": "code",
   "execution_count": 17,
   "metadata": {},
   "outputs": [],
   "source": [
    "# --- Импорт библиотек --- #\n",
    "import nltk as nlp\n",
    "import random as rnd\n",
    "from pyaspeller import YandexSpeller as speller\n",
    "import json\n",
    "# from sklearn.feature_extraction.text import CountVectorizer\n",
    "# from sklearn.linear_model import LogisticRegression\n",
    "# from sklearn.ensemble import RandomForestClassifier\n",
    "import matplotlib.pyplot as plt\n",
    "splr = speller()\n",
    "# Vect = CountVectorizer()\n",
    "# LogReg = LogisticRegression()\n",
    "# RndForClass = RandomForestClassifier(n_estimators = 500, min_samples_split = 7)\n",
    "Phrases = json.load(open(file=\"Phrases.json\",encoding=\"UTF-8\"))\n",
    "\n",
    "# --- Использование NLTK для коррекции ввода --- #\n",
    "def look_like (usr_in, example):\n",
    "    usr_in = usr_in.lower()\n",
    "    example = example.lower()\n",
    "    distance = nlp.edit_distance(usr_in,example,transpositions=True)/len(example)\n",
    "    if distance < 0.5:\n",
    "        return True\n",
    "    else:\n",
    "        return False\n",
    "\n",
    "# --- Фильтр символов --- #\n",
    "def filter(usr):\n",
    "    aphabet = \"абвгдеёжзийклмнопрстуфхцчшщъыьэюя -+=1234567890\"\n",
    "    res = []\n",
    "    for char in usr:\n",
    "        if char in aphabet:\n",
    "            res.append(char)\n",
    "    return str(res).replace('[','').replace(']','').replace('\\'','').replace(', ','')\n",
    "\n",
    "# --- (Output Обработка) : ([Bot]:) --- #\n",
    "def bot(UsrIn):\n",
    "    changes = {change['word']:change['s'][0] for change in splr.spell(UsrIn)}\n",
    "    for word, suggestion in changes.items():\n",
    "        UsrIn = UsrIn.replace(word,suggestion)\n",
    "    UsrIn = filter(UsrIn)\n",
    "    intent = ans(UsrIn)\n",
    "    print(intent,UsrIn)\n",
    "#     if not intent:\n",
    "#         trans_text = Vect.transform([UsrIn])\n",
    "#         print(trans_text)\n",
    "# #         intent = LogReg.predict(trans_text)[0]\n",
    "#         intent = RndForClass.predict(trans_text)[0]\n",
    "#         print(intent)\n",
    "    if intent == \"bye\":\n",
    "        return(rnd.choice(Phrases[intent][\"reactions\"]),True)\n",
    "    if intent:\n",
    "        return(rnd.choice(Phrases[intent][\"reactions\"]),False)\n",
    "    return (\"Не понял\",False)\n",
    "\n",
    "# --- Input Обработка --- #\n",
    "def ans(UsrIn):\n",
    "    for index in Phrases:\n",
    "        for word in Phrases[index][\"words\"]:\n",
    "            if look_like(usrIn, word) == True:\n",
    "                return index\n",
    "    return False"
   ]
  },
  {
   "cell_type": "code",
   "execution_count": 18,
   "metadata": {},
   "outputs": [
    {
     "name": "stdout",
     "output_type": "stream",
     "text": [
      ">ук\n",
      "False ук\n",
      "\n",
      "bye\n",
      "Пока\n"
     ]
    }
   ],
   "source": [
    "# x=[];y=[]\n",
    "# for index,data in Phrases.items():\n",
    "#     for words in data[\"words\"]:\n",
    "#         x.append(words)\n",
    "#         y.append(index)\n",
    "# Vect.fit(x)\n",
    "# vectX = Vect.transform(x)\n",
    "# LogReg.fit(vectX,y)\n",
    "# RndForClass.fit(vectX,y)\n",
    "# --- Код --- #",
    "on = True\n",
    "while on:\n",
    "    usrIn = input('>').lower()\n",
    "    bot_out = bot(usrIn)\n",
    "    print(bot_out[0])\n",
    "    on = not bot_out[1]"
   ]
  },
  {
   "cell_type": "code",
   "execution_count": null,
   "metadata": {},
   "outputs": [],
   "source": []
  }
 ],
 "metadata": {
  "kernelspec": {
   "display_name": "Python 3 (ipykernel)",
   "language": "python",
   "name": "python3"
  },
  "language_info": {
   "codemirror_mode": {
    "name": "ipython",
    "version": 3
   },
   "file_extension": ".py",
   "mimetype": "text/x-python",
   "name": "python",
   "nbconvert_exporter": "python",
   "pygments_lexer": "ipython3",
   "version": "3.11.3"
  },
  "vscode": {
   "interpreter": {
    "hash": "5238573367df39f7286bb46f9ff5f08f63a01a80960060ce41e3c79b190280fa"
   }
  }
 },
 "nbformat": 4,
 "nbformat_minor": 2
}
